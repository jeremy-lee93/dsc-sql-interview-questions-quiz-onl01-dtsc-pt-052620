{
 "cells": [
  {
   "cell_type": "markdown",
   "metadata": {},
   "source": [
    "# SQL Interview Questions  - Quiz\n",
    "\n",
    "\n",
    "## Introduction\n",
    "\n",
    "This quiz contains questions on topics you can expect to see in an interview pertaining to SQL and Relational Databases. Some of them are multiple choice, while some are short answer. For these short answer questions, double click on the Jupyter Notebook and type your answer below the line. \n",
    "\n",
    "## Question 1\n",
    "\n",
    "What are the 4 main datatypes in SQLite3? Can we use other common types from other kinds of SQL?\n",
    "\n",
    "Type your answer below this line:\n",
    "_______________________________________________________________________________________________________________________________\n",
    "INTEGER - Any column that will store whole numbers\n",
    "REAL - Any column that will store any real number other than an integer (i.e. numbers with decimals up to 15 characters long) \n",
    "TEXT - TEXT is for columns that would store strings.  Strings can be alphanumeric.\n",
    "BLOB - Used for holding binary data.\n",
    "\n",
    "Yes, SQLite3 will convert to one of the 4 types listed above.\n",
    "\n",
    "\n",
    "## Question 2\n",
    "\n",
    "Explain the relationship between **Primary Keys** and **Foreign Keys**.\n",
    "\n",
    "Type your answer below this line:\n",
    "_______________________________________________________________________________________________________________________________\n",
    "Primary keys represent the columns of a table that uniquely identify a row.\n",
    "\n",
    "Foreign keys are not the primary key for a particular table but represent a primary key in another table.\n",
    "\n",
    "\n",
    "## Question 3\n",
    "\n",
    "Explain the different types of relationships entities can have in a SQL database. \n",
    "\n",
    "Type your answer below this line:\n",
    "_______________________________________________________________________________________________________________________________\n",
    "One to One Join - Each row in one table is linked (or related) to a single row in another table.\n",
    "\n",
    "One to Many Join - Each row in one table is linked (or related) to one or more rows in another table.\n",
    "\n",
    "Many to Many Join - One or more rows in one table is linked to one or more rows in another table.  There are multiple entries for the shared field in tow tables.\n",
    "\n",
    "\n",
    "\n",
    "## Question 4\n",
    "\n",
    "Explain the various types of JOINs possible with SQL. \n",
    "\n",
    "Type your answer below this line:\n",
    "_______________________________________________________________________________________________________________________________\n",
    "Inner Join - A joining of two tables where only the shared information between two tables is returned.\n",
    "Right Join - A joining of two tables where all the information in the right table is kept and only the shared information from the left table is merged in with the right table.\n",
    "Left Join - A joining of two tables where all the information in the left table is kept and only the shared information from the right table is merged in with the left table.\n",
    "Outer Join - A join in which all information from two table are joined into one table.\n",
    "\n",
    "\n",
    "## Question 5\n",
    "\n",
    "Explain the relationship between Aggregate functions and GROUP BY statements.\n",
    "\n",
    "Type your answer below this line:\n",
    "_______________________________________________________________________________________________________________________________\n",
    "The GROUP BY clause groups records into summary rows and returns one record for each group.  Typically, GROUP BY also involves an aggregate function so that summary statistics can be calculated.\n",
    "\n",
    "\n",
    "## Question 6\n",
    "\n",
    "What role do Associative Entities play (JOIN Tables) in many-to-many JOINs?\n",
    "\n",
    "\n",
    "Type your answer below this line:\n",
    "_______________________________________________________________________________________________________________________________\n",
    "A Join table can break a many-to-many relationship into two one-to-many relationships. The join field will include the primary keys of the two tables it is joining. In the join table they would be foreign keys. The foreign key fields are populated as records in the join table are created from either table it joins.\n",
    "\n",
    "\n",
    "## Summary\n",
    "\n",
    "In this lesson, we practiced answering open-ended interview questions for SQL and Relational Databases. "
   ]
  }
 ],
 "metadata": {
  "kernelspec": {
   "display_name": "Python 3",
   "language": "python",
   "name": "python3"
  },
  "language_info": {
   "codemirror_mode": {
    "name": "ipython",
    "version": 3
   },
   "file_extension": ".py",
   "mimetype": "text/x-python",
   "name": "python",
   "nbconvert_exporter": "python",
   "pygments_lexer": "ipython3",
   "version": "3.6.9"
  },
  "toc": {
   "base_numbering": 1,
   "nav_menu": {},
   "number_sections": true,
   "sideBar": true,
   "skip_h1_title": false,
   "title_cell": "Table of Contents",
   "title_sidebar": "Contents",
   "toc_cell": false,
   "toc_position": {},
   "toc_section_display": true,
   "toc_window_display": false
  },
  "varInspector": {
   "cols": {
    "lenName": 16,
    "lenType": 16,
    "lenVar": 40
   },
   "kernels_config": {
    "python": {
     "delete_cmd_postfix": "",
     "delete_cmd_prefix": "del ",
     "library": "var_list.py",
     "varRefreshCmd": "print(var_dic_list())"
    },
    "r": {
     "delete_cmd_postfix": ") ",
     "delete_cmd_prefix": "rm(",
     "library": "var_list.r",
     "varRefreshCmd": "cat(var_dic_list()) "
    }
   },
   "types_to_exclude": [
    "module",
    "function",
    "builtin_function_or_method",
    "instance",
    "_Feature"
   ],
   "window_display": false
  }
 },
 "nbformat": 4,
 "nbformat_minor": 2
}
